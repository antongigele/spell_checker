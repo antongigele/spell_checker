{
 "cells": [
  {
   "cell_type": "code",
   "execution_count": 1,
   "metadata": {},
   "outputs": [],
   "source": [
    "from nltk import word_tokenize\n",
    "from nltk.corpus import stopwords, words\n",
    "from nltk.corpus import wordnet as wn\n",
    "from  spellchecker import SpellChecker\n",
    "import wordninja\n",
    "import pandas as pd\n",
    "from IPython.core.interactiveshell import InteractiveShell\n",
    "InteractiveShell.ast_node_interactivity = \"all\"\n",
    "from sys import platform, path\n",
    "import json\n",
    "import csv\n",
    "from time import time\n",
    "from difflib import get_close_matches"
   ]
  },
  {
   "cell_type": "markdown",
   "metadata": {},
   "source": [
    "### Load all the data"
   ]
  },
  {
   "cell_type": "code",
   "execution_count": 2,
   "metadata": {},
   "outputs": [],
   "source": [
    "win_path = r\"C:\\Users\\Anton\\Desktop\\projects\\spell_checker\\csv_imports\\\\\"\n",
    "mac_linux_path = \"csv_imports/\""
   ]
  },
  {
   "cell_type": "code",
   "execution_count": 3,
   "metadata": {},
   "outputs": [],
   "source": [
    "if platform == \"linux\" or platform == \"linux2\":\n",
    "    path = mac_linux_path\n",
    "elif platform == \"darwin\":\n",
    "    path = mac_linux_path\n",
    "elif platform == \"win32\":\n",
    "    path = win_path\n",
    "else:\n",
    "    path = win_path"
   ]
  },
  {
   "cell_type": "markdown",
   "metadata": {},
   "source": [
    " query data"
   ]
  },
  {
   "cell_type": "code",
   "execution_count": 4,
   "metadata": {},
   "outputs": [],
   "source": [
    "unique_words_other_df = pd.read_csv(path + \"unique_words_other_ds.csv\")\n",
    "unique_words_from_me = pd.read_csv(path + \"atoms.csv\")"
   ]
  },
  {
   "cell_type": "code",
   "execution_count": 5,
   "metadata": {},
   "outputs": [
    {
     "data": {
      "text/html": [
       "<div>\n",
       "<style scoped>\n",
       "    .dataframe tbody tr th:only-of-type {\n",
       "        vertical-align: middle;\n",
       "    }\n",
       "\n",
       "    .dataframe tbody tr th {\n",
       "        vertical-align: top;\n",
       "    }\n",
       "\n",
       "    .dataframe thead th {\n",
       "        text-align: right;\n",
       "    }\n",
       "</style>\n",
       "<table border=\"1\" class=\"dataframe\">\n",
       "  <thead>\n",
       "    <tr style=\"text-align: right;\">\n",
       "      <th></th>\n",
       "      <th>New Words</th>\n",
       "      <th>unnamed_1</th>\n",
       "    </tr>\n",
       "  </thead>\n",
       "  <tbody>\n",
       "    <tr>\n",
       "      <th>0</th>\n",
       "      <td>0</td>\n",
       "      <td>NaN</td>\n",
       "    </tr>\n",
       "    <tr>\n",
       "      <th>1</th>\n",
       "      <td>0</td>\n",
       "      <td>NaN</td>\n",
       "    </tr>\n",
       "    <tr>\n",
       "      <th>2</th>\n",
       "      <td>0</td>\n",
       "      <td>NaN</td>\n",
       "    </tr>\n",
       "    <tr>\n",
       "      <th>3</th>\n",
       "      <td>0</td>\n",
       "      <td>NaN</td>\n",
       "    </tr>\n",
       "    <tr>\n",
       "      <th>4</th>\n",
       "      <td>0</td>\n",
       "      <td>NaN</td>\n",
       "    </tr>\n",
       "    <tr>\n",
       "      <th>...</th>\n",
       "      <td>...</td>\n",
       "      <td>...</td>\n",
       "    </tr>\n",
       "    <tr>\n",
       "      <th>144485</th>\n",
       "      <td>zzzio</td>\n",
       "      <td>NaN</td>\n",
       "    </tr>\n",
       "    <tr>\n",
       "      <th>144486</th>\n",
       "      <td>zzzirael</td>\n",
       "      <td>NaN</td>\n",
       "    </tr>\n",
       "    <tr>\n",
       "      <th>144487</th>\n",
       "      <td>zzzz</td>\n",
       "      <td>NaN</td>\n",
       "    </tr>\n",
       "    <tr>\n",
       "      <th>144488</th>\n",
       "      <td>zzzzz</td>\n",
       "      <td>NaN</td>\n",
       "    </tr>\n",
       "    <tr>\n",
       "      <th>144489</th>\n",
       "      <td>zzzzzzzzzzzzzzzzzzzzzz</td>\n",
       "      <td>NaN</td>\n",
       "    </tr>\n",
       "  </tbody>\n",
       "</table>\n",
       "<p>144490 rows × 2 columns</p>\n",
       "</div>"
      ],
      "text/plain": [
       "                     New Words  unnamed_1\n",
       "0                            0        NaN\n",
       "1                            0        NaN\n",
       "2                            0        NaN\n",
       "3                            0        NaN\n",
       "4                            0        NaN\n",
       "...                        ...        ...\n",
       "144485                   zzzio        NaN\n",
       "144486                zzzirael        NaN\n",
       "144487                    zzzz        NaN\n",
       "144488                   zzzzz        NaN\n",
       "144489  zzzzzzzzzzzzzzzzzzzzzz        NaN\n",
       "\n",
       "[144490 rows x 2 columns]"
      ]
     },
     "execution_count": 5,
     "metadata": {},
     "output_type": "execute_result"
    }
   ],
   "source": [
    "unique_words_other_df"
   ]
  },
  {
   "cell_type": "code",
   "execution_count": 6,
   "metadata": {},
   "outputs": [
    {
     "data": {
      "text/html": [
       "<div>\n",
       "<style scoped>\n",
       "    .dataframe tbody tr th:only-of-type {\n",
       "        vertical-align: middle;\n",
       "    }\n",
       "\n",
       "    .dataframe tbody tr th {\n",
       "        vertical-align: top;\n",
       "    }\n",
       "\n",
       "    .dataframe thead th {\n",
       "        text-align: right;\n",
       "    }\n",
       "</style>\n",
       "<table border=\"1\" class=\"dataframe\">\n",
       "  <thead>\n",
       "    <tr style=\"text-align: right;\">\n",
       "      <th></th>\n",
       "      <th>term</th>\n",
       "    </tr>\n",
       "  </thead>\n",
       "  <tbody>\n",
       "    <tr>\n",
       "      <th>0</th>\n",
       "      <td>burset</td>\n",
       "    </tr>\n",
       "    <tr>\n",
       "      <th>1</th>\n",
       "      <td>herstal</td>\n",
       "    </tr>\n",
       "    <tr>\n",
       "      <th>2</th>\n",
       "      <td>sleepwalkers</td>\n",
       "    </tr>\n",
       "    <tr>\n",
       "      <th>3</th>\n",
       "      <td>curuosa</td>\n",
       "    </tr>\n",
       "    <tr>\n",
       "      <th>4</th>\n",
       "      <td>zooofilia</td>\n",
       "    </tr>\n",
       "    <tr>\n",
       "      <th>...</th>\n",
       "      <td>...</td>\n",
       "    </tr>\n",
       "    <tr>\n",
       "      <th>202502</th>\n",
       "      <td>priner</td>\n",
       "    </tr>\n",
       "    <tr>\n",
       "      <th>202503</th>\n",
       "      <td>toydildo</td>\n",
       "    </tr>\n",
       "    <tr>\n",
       "      <th>202504</th>\n",
       "      <td>rabbbitvibrator</td>\n",
       "    </tr>\n",
       "    <tr>\n",
       "      <th>202505</th>\n",
       "      <td>eels</td>\n",
       "    </tr>\n",
       "    <tr>\n",
       "      <th>202506</th>\n",
       "      <td>solly</td>\n",
       "    </tr>\n",
       "  </tbody>\n",
       "</table>\n",
       "<p>202507 rows × 1 columns</p>\n",
       "</div>"
      ],
      "text/plain": [
       "                   term\n",
       "0                burset\n",
       "1               herstal\n",
       "2          sleepwalkers\n",
       "3               curuosa\n",
       "4             zooofilia\n",
       "...                 ...\n",
       "202502           priner\n",
       "202503         toydildo\n",
       "202504  rabbbitvibrator\n",
       "202505             eels\n",
       "202506            solly\n",
       "\n",
       "[202507 rows x 1 columns]"
      ]
     },
     "execution_count": 6,
     "metadata": {},
     "output_type": "execute_result"
    }
   ],
   "source": [
    "unique_words_from_me"
   ]
  },
  {
   "cell_type": "code",
   "execution_count": 7,
   "metadata": {},
   "outputs": [
    {
     "data": {
      "text/plain": [
       "58160"
      ]
     },
     "execution_count": 7,
     "metadata": {},
     "output_type": "execute_result"
    }
   ],
   "source": [
    "my_difference = set(unique_words_from_me[\"term\"].unique()).difference(set(unique_words_other_df[\"New Words\"].unique()))\n",
    "len(my_difference)"
   ]
  },
  {
   "cell_type": "code",
   "execution_count": 12,
   "metadata": {},
   "outputs": [],
   "source": [
    "other_difference = set(unique_words_other_df[\"New Words\"].unique()).difference(set(unique_words_from_me[\"term\"].unique()))"
   ]
  },
  {
   "cell_type": "code",
   "execution_count": 13,
   "metadata": {},
   "outputs": [
    {
     "data": {
      "text/plain": [
       "224"
      ]
     },
     "execution_count": 13,
     "metadata": {},
     "output_type": "execute_result"
    }
   ],
   "source": [
    "with open(\"/Users/antongigele/Desktop/python/spell_checker/csv_imports/difference.csv\", \"w\", newline=\"\") as outfile: \n",
    "    write = csv.writer(outfile)\n",
    "    write.writerow(list(other_difference))"
   ]
  }
 ],
 "metadata": {
  "kernelspec": {
   "display_name": "Python 3",
   "language": "python",
   "name": "python3"
  },
  "language_info": {
   "codemirror_mode": {
    "name": "ipython",
    "version": 3
   },
   "file_extension": ".py",
   "mimetype": "text/x-python",
   "name": "python",
   "nbconvert_exporter": "python",
   "pygments_lexer": "ipython3",
   "version": "3.9.5"
  }
 },
 "nbformat": 4,
 "nbformat_minor": 2
}
