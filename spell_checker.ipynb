{
 "cells": [
  {
   "cell_type": "code",
   "execution_count": 24,
   "metadata": {},
   "outputs": [],
   "source": [
    "from nltk import edit_distance\n",
    "from nltk import word_tokenize\n",
    "from nltk.corpus import stopwords, words\n",
    "import nltk\n",
    "import pandas as pd\n",
    "from  spellchecker import SpellChecker\n",
    "from IPython.core.interactiveshell import InteractiveShell\n",
    "InteractiveShell.ast_node_interactivity = \"all\"\n",
    "from sys import platform"
   ]
  },
  {
   "cell_type": "code",
   "execution_count": 25,
   "metadata": {},
   "outputs": [],
   "source": [
    "win_path = r\"C:\\Users\\Anton\\Desktop\\projects\\spell_checker\\csv_imports\\\\\"\n",
    "mac_linux_path = \"csv_imports/\""
   ]
  },
  {
   "cell_type": "code",
   "execution_count": 26,
   "metadata": {},
   "outputs": [],
   "source": [
    "if platform == \"linux\" or platform == \"linux2\":\n",
    "    path = mac_linux_path\n",
    "elif platform == \"darwin\":\n",
    "    path = mac_linux_path\n",
    "elif platform == \"win32\":\n",
    "    path = win_path\n",
    "else:\n",
    "    path = win_path"
   ]
  },
  {
   "cell_type": "code",
   "execution_count": 27,
   "metadata": {},
   "outputs": [],
   "source": [
    "porn_terms_df = pd.read_csv(path + \"porn_words.csv\")"
   ]
  },
  {
   "cell_type": "code",
   "execution_count": 28,
   "metadata": {},
   "outputs": [],
   "source": [
    "queries_df = pd.read_csv(path + \"nlp_queries.csv\")\n",
    "queries_df = queries_df.drop(columns=[\"#\"])"
   ]
  },
  {
   "cell_type": "code",
   "execution_count": 29,
   "metadata": {},
   "outputs": [
    {
     "data": {
      "text/plain": [
       "array(['japanese', 'sexmex', 'hentai', ..., 'colegiala quito',\n",
       "       'darla caren', 'mistress orgasm'], dtype=object)"
      ]
     },
     "execution_count": 29,
     "metadata": {},
     "output_type": "execute_result"
    },
    {
     "data": {
      "text/plain": [
       "1062095"
      ]
     },
     "execution_count": 29,
     "metadata": {},
     "output_type": "execute_result"
    }
   ],
   "source": [
    "queries_df[\"query\"].unique()\n",
    "queries_df[\"query\"].nunique()"
   ]
  },
  {
   "cell_type": "code",
   "execution_count": 30,
   "metadata": {},
   "outputs": [
    {
     "data": {
      "text/html": [
       "<div>\n",
       "<style scoped>\n",
       "    .dataframe tbody tr th:only-of-type {\n",
       "        vertical-align: middle;\n",
       "    }\n",
       "\n",
       "    .dataframe tbody tr th {\n",
       "        vertical-align: top;\n",
       "    }\n",
       "\n",
       "    .dataframe thead th {\n",
       "        text-align: right;\n",
       "    }\n",
       "</style>\n",
       "<table border=\"1\" class=\"dataframe\">\n",
       "  <thead>\n",
       "    <tr style=\"text-align: right;\">\n",
       "      <th></th>\n",
       "      <th>id</th>\n",
       "      <th>query</th>\n",
       "      <th>cnt</th>\n",
       "    </tr>\n",
       "  </thead>\n",
       "  <tbody>\n",
       "    <tr>\n",
       "      <th>0</th>\n",
       "      <td>134</td>\n",
       "      <td>japanese</td>\n",
       "      <td>60332</td>\n",
       "    </tr>\n",
       "    <tr>\n",
       "      <th>1</th>\n",
       "      <td>116</td>\n",
       "      <td>sexmex</td>\n",
       "      <td>55632</td>\n",
       "    </tr>\n",
       "    <tr>\n",
       "      <th>2</th>\n",
       "      <td>88</td>\n",
       "      <td>hentai</td>\n",
       "      <td>47325</td>\n",
       "    </tr>\n",
       "    <tr>\n",
       "      <th>3</th>\n",
       "      <td>360</td>\n",
       "      <td>omegle</td>\n",
       "      <td>46862</td>\n",
       "    </tr>\n",
       "    <tr>\n",
       "      <th>4</th>\n",
       "      <td>299</td>\n",
       "      <td></td>\n",
       "      <td>40304</td>\n",
       "    </tr>\n",
       "    <tr>\n",
       "      <th>...</th>\n",
       "      <td>...</td>\n",
       "      <td>...</td>\n",
       "      <td>...</td>\n",
       "    </tr>\n",
       "    <tr>\n",
       "      <th>1062092</th>\n",
       "      <td>186075</td>\n",
       "      <td>scoute69stiefsohnspritztab</td>\n",
       "      <td>1</td>\n",
       "    </tr>\n",
       "    <tr>\n",
       "      <th>1062093</th>\n",
       "      <td>186081</td>\n",
       "      <td>dean</td>\n",
       "      <td>1</td>\n",
       "    </tr>\n",
       "    <tr>\n",
       "      <th>1062094</th>\n",
       "      <td>186193</td>\n",
       "      <td>colegiala quito</td>\n",
       "      <td>1</td>\n",
       "    </tr>\n",
       "    <tr>\n",
       "      <th>1062095</th>\n",
       "      <td>186250</td>\n",
       "      <td>darla caren</td>\n",
       "      <td>1</td>\n",
       "    </tr>\n",
       "    <tr>\n",
       "      <th>1062096</th>\n",
       "      <td>186273</td>\n",
       "      <td>mistress orgasm</td>\n",
       "      <td>1</td>\n",
       "    </tr>\n",
       "  </tbody>\n",
       "</table>\n",
       "<p>1062097 rows × 3 columns</p>\n",
       "</div>"
      ],
      "text/plain": [
       "             id                       query    cnt\n",
       "0           134                    japanese  60332\n",
       "1           116                      sexmex  55632\n",
       "2            88                      hentai  47325\n",
       "3           360                      omegle  46862\n",
       "4           299                              40304\n",
       "...         ...                         ...    ...\n",
       "1062092  186075  scoute69stiefsohnspritztab      1\n",
       "1062093  186081                        dean      1\n",
       "1062094  186193             colegiala quito      1\n",
       "1062095  186250                 darla caren      1\n",
       "1062096  186273             mistress orgasm      1\n",
       "\n",
       "[1062097 rows x 3 columns]"
      ]
     },
     "execution_count": 30,
     "metadata": {},
     "output_type": "execute_result"
    }
   ],
   "source": [
    "queries_df"
   ]
  },
  {
   "cell_type": "markdown",
   "metadata": {},
   "source": [
    "#### Todo\n",
    "* consider plurals in some cases the same\n",
    "* make the dictionary more pornographic\n",
    "* remove correct false-context words\n",
    "* detect wrong spelled words\n",
    "* detect keyboard typos"
   ]
  },
  {
   "cell_type": "markdown",
   "metadata": {},
   "source": [
    "Remove stopwords from queries"
   ]
  },
  {
   "cell_type": "code",
   "execution_count": 31,
   "metadata": {},
   "outputs": [],
   "source": [
    "stop_words = set(stopwords.words('english')) "
   ]
  },
  {
   "cell_type": "code",
   "execution_count": 32,
   "metadata": {},
   "outputs": [],
   "source": [
    "def remove_stop_words(sentence): \n",
    "    words = sentence.split() \n",
    "    filtered_words = [word for word in words if word not in stop_words] \n",
    "\n",
    "    return ' '.join(filtered_words)"
   ]
  },
  {
   "cell_type": "code",
   "execution_count": 33,
   "metadata": {},
   "outputs": [],
   "source": [
    "spell = SpellChecker()"
   ]
  },
  {
   "cell_type": "code",
   "execution_count": 34,
   "metadata": {},
   "outputs": [],
   "source": [
    "def spellcheck(query):\n",
    "    query = remove_stop_words(query)\n",
    "    query_list = word_tokenize(query)\n",
    "    mispelled = spell.unknown(query_list)\n",
    "\n",
    "    result_string = \"\"\n",
    "    for word in mispelled:\n",
    "        porn_words = porn_terms_df[\"term\"].unique()\n",
    "        if len(list(set(spell.candidates(word)).intersection(set(porn_words)))) == 0:\n",
    "            result_string += spell.correction(word) + \" \"\n",
    "        else:\n",
    "            # print(spell.candidates(word))\n",
    "            result_string += list(set(spell.candidates(word)).intersection(set(porn_words)))[0] + \" \"\n",
    "\n",
    "    return result_string"
   ]
  },
  {
   "cell_type": "code",
   "execution_count": 38,
   "metadata": {},
   "outputs": [
    {
     "data": {
      "text/plain": [
       "'bukkake '"
      ]
     },
     "execution_count": 38,
     "metadata": {},
     "output_type": "execute_result"
    }
   ],
   "source": [
    "spellcheck(\"bukak\")"
   ]
  },
  {
   "cell_type": "code",
   "execution_count": 14,
   "metadata": {},
   "outputs": [],
   "source": [
    "query_1 = \"japanese milf with big tit\"\n",
    "query_2 = \"japanese milf big tits\""
   ]
  },
  {
   "cell_type": "code",
   "execution_count": 15,
   "metadata": {},
   "outputs": [
    {
     "data": {
      "text/plain": [
       "''"
      ]
     },
     "execution_count": 15,
     "metadata": {},
     "output_type": "execute_result"
    }
   ],
   "source": [
    "spellcheck(\"japanese mather son\")"
   ]
  },
  {
   "cell_type": "markdown",
   "metadata": {},
   "source": [
    "#### Change word frequency"
   ]
  },
  {
   "cell_type": "code",
   "execution_count": 16,
   "metadata": {},
   "outputs": [],
   "source": [
    "spell.word_frequency.load_text_file(path + \"my_uncles_new_wive_part1.txt\")"
   ]
  },
  {
   "cell_type": "code",
   "execution_count": 17,
   "metadata": {},
   "outputs": [
    {
     "name": "stdout",
     "output_type": "stream",
     "text": [
      "{'puss', 'push', 'busy', 'psy', 'jusy', 'pus', 'pussy', 'puny', 'pushy', 'posy'}\n"
     ]
    },
    {
     "data": {
      "text/plain": [
       "'busy '"
      ]
     },
     "execution_count": 17,
     "metadata": {},
     "output_type": "execute_result"
    }
   ],
   "source": [
    "spellcheck(\"pusy\")"
   ]
  },
  {
   "cell_type": "code",
   "execution_count": 18,
   "metadata": {},
   "outputs": [],
   "source": [
    "spell.word_frequency.load_text_file(path + \"pussy.txt\")"
   ]
  },
  {
   "cell_type": "code",
   "execution_count": 19,
   "metadata": {},
   "outputs": [
    {
     "name": "stdout",
     "output_type": "stream",
     "text": [
      "{'puss', 'push', 'busy', 'psy', 'jusy', 'pus', 'pussy', 'puny', 'pushy', 'posy'}\n"
     ]
    },
    {
     "data": {
      "text/plain": [
       "'busy '"
      ]
     },
     "execution_count": 19,
     "metadata": {},
     "output_type": "execute_result"
    }
   ],
   "source": [
    "spellcheck(\"pusy\")"
   ]
  }
 ],
 "metadata": {
  "kernelspec": {
   "display_name": ".venv",
   "language": "python",
   "name": "python3"
  },
  "language_info": {
   "codemirror_mode": {
    "name": "ipython",
    "version": 3
   },
   "file_extension": ".py",
   "mimetype": "text/x-python",
   "name": "python",
   "nbconvert_exporter": "python",
   "pygments_lexer": "ipython3",
   "version": "3.9.5"
  }
 },
 "nbformat": 4,
 "nbformat_minor": 2
}
